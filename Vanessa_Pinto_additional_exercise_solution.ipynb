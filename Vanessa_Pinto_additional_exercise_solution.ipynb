{
 "cells": [
  {
   "cell_type": "markdown",
   "metadata": {},
   "source": [
    "# Additional Exercise\n",
    "\n",
    "Due: **12:00 18 July 2022**\n",
    "\n",
    "**Online submission** at via [ILIAS](https://www.ilias.uni-koeln.de/ilias/goto_uk_exc_4593683.html) in the directory Exercises / Übungen -> Submission of Exercises / Rückgabe des Übungsblätter\n",
    "\n",
    "**Student:** Vanessa Pinto"
   ]
  },
  {
   "cell_type": "markdown",
   "metadata": {},
   "source": [
    "## Information"
   ]
  },
  {
   "cell_type": "markdown",
   "metadata": {},
   "source": [
    "This additional exercise may be used for **one** of two reasons:\n",
    "\n",
    "* make up for the attendance requirement (if you missed more than two tutorials), or\n",
    "* replace lowest grade in exercises (mentioned to you via email)\n",
    "\n",
    "For the latter, you may submit the solutions to this like any other exercise this year. For experience, it is advantageous to still use the following procedure.\n",
    "\n",
    "If you need to make up for the attendance requirement, you must use a specific method of submission utilising [github](https://github.com/) and a makefile. If you are using Windows, please ensure you work either in [cygwin](https://www.cygwin.com/) or [Windows Subsystem for Linux](https://docs.microsoft.com/en-us/windows/wsl/install), since `make` does not work in Windows.\n",
    "\n",
    "1. create a repository on github exclusively for this exercise\n",
    "2. fully complete (or at least attempt) each question in a jupyter notebook\n",
    "   * name it `[name]_additional_exercise_solution.ipynb`\n",
    "3. restart and clear all notebook ouputs so it contains just the markdown and code cells (no plots or other outputs)\n",
    "4. create a makefile to execute the notebook, compile to a pdf, and remove any temporary files\n",
    "   * I should only need to run `$make` in order to build your submission\n",
    "   * **do not** submit a compiled pdf of the solution\n",
    "5. submit a file `[name].txt` containing the link to your git repository\n",
    "\n",
    "Although make is a rather archaic tool, `make` is very useful to perform low-level compilation. It actually began as an easier method to compile C** and fortran code. Common compilation routines are identified using *suffix rules*. **For an additional 10%, write your own suffix rule to compile `.ipynb` files into `.pdf`.**"
   ]
  },
  {
   "cell_type": "markdown",
   "metadata": {},
   "source": [
    "## `MakeFile`s"
   ]
  },
  {
   "cell_type": "markdown",
   "metadata": {},
   "source": [
    "What a makefile does is simplify a workflow using terminal commands. As mentioned above, it is useful to compile documentation/code if changes where made in the source. One can in fact use this for newer formats such as IPython notebooks (`.ipynb` files).\n",
    "\n",
    "A makefile typically goes in the top directory of your project. You can find an introduction to makefiles [here](https://makefiletutorial.com/). Basically how a makefile works is that you have a series of *targets* that execute a specific set of commands. For example, if your makefile contains,\n",
    "\n",
    "```\n",
    "info:\n",
    "    @echo \"This is a makefile.\"\n",
    "\n",
    "command:\n",
    "    @echo \"This is a command.\"\n",
    "```\n",
    "\n",
    "> *Note:* Make will by default also print each command. Beginning the command with `@` suppresses this functionality.\n",
    "\n",
    "you can make either target `info` or target `command`. Running `make info` in the terminal from the top directory will print `This is a makefile.` to the terminal. Likewise running `make command` will print `This is a command.` to the terminal. Not specifying a target will make the first target in the file (so `make info` is the same as `make` in this example). For this reason, it is customary to set the first target as the default workflow. If our makefile now contains,\n",
    "\n",
    "```\n",
    "all: info command\n",
    "\n",
    "info:\n",
    "    @echo \"This is a makefile.\"\n",
    "\n",
    "command:\n",
    "    @echo \"Some commands to execute:\"\n",
    "    echo \"...\"\n",
    "    @echo \"It has now completed.\"\n",
    "```\n",
    "\n",
    "running `make` from the terminal will print,\n",
    "\n",
    "```\n",
    "This is a makefile.\n",
    "Some commands to execute:\n",
    "echo \"...\"\n",
    "...\n",
    "It has now completed.\n",
    "```\n",
    "\n",
    "Each target can run multiple commands, but each line is run in a separate subshell. This means if you want to string together commands (for example if you need to change directories), you have to write them in one line as `command 1 ; command 2 ; ...`.\n",
    "\n",
    "This should be most everything you need to write your own makefile. Please contact a TA if you run into any major issues.\n",
    "\n",
    "> Ensure each command is indented with a **tab** character (not *space* characters). This is one of the finicky aspects of using a makefile...\n",
    "\n",
    "> Note that linux operating systems use GNU make with `bash` or `dash` as a shell. Macintosh products typically use `zsh`."
   ]
  },
  {
   "cell_type": "markdown",
   "metadata": {},
   "source": [
    "## Working with a notebook from the terminal"
   ]
  },
  {
   "cell_type": "markdown",
   "metadata": {},
   "source": [
    "Most operations you can perform on the notebook are available from the terminal. The command to work with notebooks is [nbconvert](https://nbconvert.readthedocs.io/en/latest/usage.html). This can convert between file types, depending on your needs. For example, executing a notebook from the terminal can be done using,\n",
    "\n",
    "```\n",
    "jupyter nbconvert --to notebook --execute notebook.ipynb\n",
    "```\n",
    "\n",
    "You can see a list of the available format types in the aforementioned link."
   ]
  },
  {
   "cell_type": "code",
   "execution_count": null,
   "metadata": {
    "execution": {
     "iopub.execute_input": "2022-07-17T21:23:31.459051Z",
     "iopub.status.busy": "2022-07-17T21:23:31.456067Z",
     "iopub.status.idle": "2022-07-17T21:23:37.079351Z",
     "shell.execute_reply": "2022-07-17T21:23:37.080349Z"
    }
   },
   "outputs": [],
   "source": [
    "import numpy as np \n",
    "import pandas as pd \n",
    "import matplotlib.pyplot as plt\n",
    "from scipy import stats\n",
    "from scipy.stats import skewnorm\n",
    "from sklearn import metrics\n",
    "from sklearn import linear_model\n",
    "import statsmodels.api as sm\n",
    "import math\n",
    "from scipy import interpolate\n",
    "from scipy.interpolate import UnivariateSpline"
   ]
  },
  {
   "cell_type": "markdown",
   "metadata": {},
   "source": [
    "## the *Hipparcos* catalogue\n",
    "\n",
    "*Hipparcos* (HIgh Precision PARallax COllecting Satelite) was a very important stellar survey mission between 1989 and 1993. It was the first astrometric mission of its kind, and it's precise observations allowed for unprecedented astrometrical calculations within the Milky Way. The observations of faint stars have since been (*vastly*) improved upon by the current *Gaia* mission, though the brightest stars were still most accurately observed by *Hipparcos*.\n",
    "\n",
    "The following examples will utilise a subset of a more recent reduction of the *Hipparcos* [data](https://vizier.u-strasbg.fr/viz-bin/VizieR-3?-source=I/311/hip2) ([van Leeuwen 2007](https://arxiv.org/pdf/0708.1752.pdf)) to emphasize how work with astronomical data within python, and hopefully teach a thing or two about stellar populations. The dataset we use are the stars with five-parameter astrometric solutions, meaning the solutions have been constrained for RA and DEC, proper motion in RA and DEC, and parallax. We will also highlight some of the features of various python packages so you can decide which method you prefer.\n",
    "\n",
    "This dataset has 15 columns, with the titles as a comment in the first line. The columns (and units) are,\n",
    "\n",
    " - name in the *Hipparcos* catalog HIP\n",
    " - right ascentions RA ($\\mathrm{RA}$; degrees)\n",
    " - error in right ascention sigma_RA ($\\sigma_\\mathrm{RA}$; milli-arcseconds)\n",
    " - declination DEC ($\\mathrm{DEC}$; degrees)\n",
    " - error in declination sigma_DEC ($\\sigma_\\mathrm{DEC}$; milli-arcseconds)\n",
    " - parallax PLX ($\\varpi$; in milli-arcseconds)\n",
    " - error in parallax sigma_PLX ($\\sigma_\\mathrm{\\varpi}$; in milli-arcseconds)\n",
    " - right ascention proper motion PM_RA ($\\mu_\\mathrm{RA}$; milli-arcseconds per year)\n",
    " - error in right ascention proper motion sigma_PM_RA ($\\sigma_{\\mu, \\mathrm{RA}}$; milli-arcseconds per year)\n",
    " - declination proper motion PM_DEC ($\\mu_\\mathrm{DEC}$; milli-arcseconds per year)\n",
    " - error in declination proper motion sigma_PM_DEC ($\\sigma_{\\mu, \\mathrm{DEC}}$; milli-arcseconds per year)\n",
    " - *Hipparcos* magnitude Hp (dex)\n",
    "   - *aka* V-band magnitude\n",
    " - error in magnitude sigma_Hp (dex)\n",
    " - B-V color (dex)\n",
    " - error in B-V color sigma_B-V (dex)\n",
    " - V-I color (dex)"
   ]
  },
  {
   "cell_type": "code",
   "execution_count": null,
   "metadata": {
    "execution": {
     "iopub.execute_input": "2022-07-17T21:23:37.094311Z",
     "iopub.status.busy": "2022-07-17T21:23:37.093314Z",
     "iopub.status.idle": "2022-07-17T21:23:37.810646Z",
     "shell.execute_reply": "2022-07-17T21:23:37.811643Z"
    }
   },
   "outputs": [],
   "source": [
    "# get the data from the files \n",
    "data1 = pd.read_csv('BC_hipparcos.csv')\n",
    "data2 = pd.read_csv('hipparcos2.csv')\n",
    "data2"
   ]
  },
  {
   "cell_type": "markdown",
   "metadata": {},
   "source": [
    "### Calculating distance"
   ]
  },
  {
   "cell_type": "markdown",
   "metadata": {},
   "source": [
    "A major benefit to precise astrometric observations is an accurate estimate of the parallax. This allows us to calculate the distance to each star and it reveal the structure of the Milky Way.\n",
    "\n",
    "Begin by using the parallax ($\\varpi$) to calculate the distance in parsecs (pc) to each star. It is important to remember that the parallax has units of milli-arcseconds (mas), so the distance to the star is calculated by:\n",
    "\n",
    "$$ d = 1000 \\Big(\\frac{\\mathrm{mas}}{\\varpi}\\Big) \\ \\mathrm{pc} $$\n",
    "\n",
    "Use this formula to find some interesting trends in the *Hipparcos* catalog. Are there any issues with the dataset? **5 points**\n",
    "\n",
    "> *Note:* Each degree contains 60 arcminutes, which each contain 60 arcseconds, so there are 3 600 000 milli-arcseconds in 1 degree.\n",
    "\n",
    "> *Note:* The Milky Way has a diameter of $\\sim 40~000$ pc and Earth is located at a radius of $\\sim 8~000$ pc."
   ]
  },
  {
   "cell_type": "code",
   "execution_count": null,
   "metadata": {
    "execution": {
     "iopub.execute_input": "2022-07-17T21:23:37.822614Z",
     "iopub.status.busy": "2022-07-17T21:23:37.821617Z",
     "iopub.status.idle": "2022-07-17T21:23:37.841563Z",
     "shell.execute_reply": "2022-07-17T21:23:37.842561Z"
    }
   },
   "outputs": [],
   "source": [
    "#define the parallax array \n",
    "px = data2['PLX']"
   ]
  },
  {
   "cell_type": "code",
   "execution_count": null,
   "metadata": {
    "execution": {
     "iopub.execute_input": "2022-07-17T21:23:37.886987Z",
     "iopub.status.busy": "2022-07-17T21:23:37.884993Z",
     "iopub.status.idle": "2022-07-17T21:23:49.267961Z",
     "shell.execute_reply": "2022-07-17T21:23:49.269955Z"
    }
   },
   "outputs": [],
   "source": [
    "#set up a distance array and calculate it for each value \n",
    "distance = []\n",
    "for i in range(len(px)): \n",
    "    d = 1000*(1/px[i])\n",
    "    distance = np.append(distance,d)"
   ]
  },
  {
   "cell_type": "code",
   "execution_count": null,
   "metadata": {
    "execution": {
     "iopub.execute_input": "2022-07-17T21:23:49.282932Z",
     "iopub.status.busy": "2022-07-17T21:23:49.280926Z",
     "iopub.status.idle": "2022-07-17T21:23:51.480061Z",
     "shell.execute_reply": "2022-07-17T21:23:51.481058Z"
    }
   },
   "outputs": [],
   "source": [
    "#plot the relation of the parallax and distance along with the \n",
    "#notes of Earth's location and the Milky Way radius \n",
    "\n",
    "plt.figure(figsize=(8,6))\n",
    "\n",
    "plt.scatter(distance, px, linewidths = 0.1)\n",
    "\n",
    "plt.axvline(x = 8000, color = 'r', linestyle = '--', label = \"Earth's Location\")\n",
    "\n",
    "\n",
    "plt.axvline(x = 20000, color = 'g', linestyle = '--', label = \"Milky Way's Radius\")\n",
    "plt.axvline(x = -20000, color = 'g', linestyle = '--')\n",
    "\n",
    "\n",
    "plt.legend()\n",
    "\n",
    "plt.title('Parallax vs Distance Relation')\n",
    "plt.ylabel('Parallax (mas)', fontsize = 12)\n",
    "plt.xlabel('Distance (pc)', fontsize =12)\n",
    "\n",
    "plt.show()"
   ]
  },
  {
   "cell_type": "code",
   "execution_count": null,
   "metadata": {
    "execution": {
     "iopub.execute_input": "2022-07-17T21:23:51.508983Z",
     "iopub.status.busy": "2022-07-17T21:23:51.507986Z",
     "iopub.status.idle": "2022-07-17T21:23:53.629650Z",
     "shell.execute_reply": "2022-07-17T21:23:53.630648Z"
    }
   },
   "outputs": [],
   "source": [
    "#plot the relation of the magnitude and distance along with the \n",
    "#notes of Earth's location and the Milky Way radius \n",
    "\n",
    "plt.figure(figsize=(8,6))\n",
    "plt.scatter(distance, data2['Hp'])\n",
    "\n",
    "\n",
    "plt.axvline(x = 8000, color = 'r', linestyle = '--', label = \"Earth's Location\")\n",
    "\n",
    "plt.axvline(x = 20000, color = 'g', linestyle = '--', label = \"Milky Way's Radius\")\n",
    "plt.axvline(x = -20000, color = 'g', linestyle = '--')\n",
    "\n",
    "\n",
    "plt.legend()\n",
    "\n",
    "plt.title('Magnitude vs Distance Relation')\n",
    "plt.ylabel('Magnitude (dex)', fontsize = 12)\n",
    "plt.xlabel('Distance (pc)', fontsize =12)\n",
    "\n",
    "\n",
    "\n",
    "\n",
    "plt.show()"
   ]
  },
  {
   "cell_type": "code",
   "execution_count": null,
   "metadata": {
    "execution": {
     "iopub.execute_input": "2022-07-17T21:23:53.648599Z",
     "iopub.status.busy": "2022-07-17T21:23:53.647603Z",
     "iopub.status.idle": "2022-07-17T21:23:55.707661Z",
     "shell.execute_reply": "2022-07-17T21:23:55.706663Z"
    }
   },
   "outputs": [],
   "source": [
    "#plot the relation of the B-V color and distance along with the \n",
    "#notes of Earth's location and the Milky Way radius \n",
    "\n",
    "plt.figure(figsize=(8,6))\n",
    "plt.scatter(distance, data2['B-V'])\n",
    "\n",
    "\n",
    "plt.axvline(x = 8000, color = 'r', linestyle = '--', label = \"Earth's Location\")\n",
    "\n",
    "plt.axvline(x = 20000, color = 'g', linestyle = '--', label = \"Milky Way's Radius\")\n",
    "plt.axvline(x = -20000, color = 'g', linestyle = '--')\n",
    "\n",
    "\n",
    "plt.legend()\n",
    "\n",
    "plt.title('B-V Color vs Distance Relation')\n",
    "plt.ylabel('B-V Color (dex)', fontsize = 12)\n",
    "plt.xlabel('Distance (pc)', fontsize =12)\n",
    "\n",
    "\n",
    "\n",
    "\n",
    "plt.show()"
   ]
  },
  {
   "cell_type": "code",
   "execution_count": null,
   "metadata": {
    "execution": {
     "iopub.execute_input": "2022-07-17T21:23:55.728603Z",
     "iopub.status.busy": "2022-07-17T21:23:55.727607Z",
     "iopub.status.idle": "2022-07-17T21:23:58.191444Z",
     "shell.execute_reply": "2022-07-17T21:23:58.190451Z"
    }
   },
   "outputs": [],
   "source": [
    "#plot the relation of the V-I color and distance along with the \n",
    "#notes of Earth's location and the Milky Way radius \n",
    "\n",
    "plt.figure(figsize=(8,6))\n",
    "plt.scatter(distance, data2['V-I'])\n",
    "\n",
    "\n",
    "plt.axvline(x = 8000, color = 'r', linestyle = '--', label = \"Earth's Location\")\n",
    "\n",
    "plt.axvline(x = 20000, color = 'g', linestyle = '--', label = \"Milky Way's Radius\")\n",
    "plt.axvline(x = -20000, color = 'g', linestyle = '--')\n",
    "\n",
    "\n",
    "plt.legend()\n",
    "\n",
    "plt.title('V-I Color vs Distance Relation')\n",
    "plt.ylabel('V-I Color (dex)', fontsize = 12)\n",
    "plt.xlabel('Distance (pc)', fontsize =12)\n",
    "\n",
    "\n",
    "\n",
    "plt.show()"
   ]
  },
  {
   "cell_type": "markdown",
   "metadata": {},
   "source": [
    "By plotting distance with the different parameters from the data set, including the parallax and several calculations of magnitude, we see for all of the plots involving magnitudes there is the main concentration of data points around the central distance which would correspond to stars in the Milky Way as this concentration is limited by the distance that defines the radius of the galaxy. We also see clumps of data points scattered across different values of magnitudes but yet they seem to share the same distance value. \n",
    "In the plot of the parallax vs distance, a similar relation is somewhat visible although in this case all of the data points seem to limit to the zero lines in both axes. However, we can still see a more dense concentration within the Milky Way radius. "
   ]
  },
  {
   "cell_type": "markdown",
   "metadata": {},
   "source": [
    "Can you find what is the most common distance to a star? What is the standard deviation of this value? What can you determine from these values? **5 points**"
   ]
  },
  {
   "cell_type": "code",
   "execution_count": null,
   "metadata": {
    "execution": {
     "iopub.execute_input": "2022-07-17T21:23:58.198422Z",
     "iopub.status.busy": "2022-07-17T21:23:58.197426Z",
     "iopub.status.idle": "2022-07-17T21:23:58.234217Z",
     "shell.execute_reply": "2022-07-17T21:23:58.234217Z"
    }
   },
   "outputs": [],
   "source": [
    "#define the mode for the distance array \n",
    "common = stats.mode(distance)\n",
    "common"
   ]
  },
  {
   "cell_type": "code",
   "execution_count": null,
   "metadata": {
    "execution": {
     "iopub.execute_input": "2022-07-17T21:23:58.243211Z",
     "iopub.status.busy": "2022-07-17T21:23:58.241198Z",
     "iopub.status.idle": "2022-07-17T21:23:58.254163Z",
     "shell.execute_reply": "2022-07-17T21:23:58.252169Z"
    }
   },
   "outputs": [],
   "source": [
    "std_common = np.std(common)\n",
    "std_common"
   ]
  },
  {
   "cell_type": "code",
   "execution_count": null,
   "metadata": {
    "execution": {
     "iopub.execute_input": "2022-07-17T21:23:58.263138Z",
     "iopub.status.busy": "2022-07-17T21:23:58.261144Z",
     "iopub.status.idle": "2022-07-17T21:23:58.280094Z",
     "shell.execute_reply": "2022-07-17T21:23:58.281090Z"
    }
   },
   "outputs": [],
   "source": [
    "print('The most common distance is 347.222222 with standard deviation ',std_common)"
   ]
  },
  {
   "cell_type": "markdown",
   "metadata": {},
   "source": [
    "These values reinforce the previous conclusion that the main concentration of stars is around the central distance and is included in the Milky Way galaxy. "
   ]
  },
  {
   "cell_type": "markdown",
   "metadata": {},
   "source": [
    "### Utilising error\n",
    "\n",
    "Error is a major aspect of observational data, since there are so many sources (instrumentational and physical) to consider. Following the procedure of van Leeuwen (2007), let us examine the error in parallax and its trends in our dataset. Relative error $\\big(\\frac{\\sigma_q}{q}\\big)$ is an important metric when our data spans multiple orders of magnitude. What is the distribution of relative error in parallax (you may want to make y log-spaced)? What does this mean in terms of *Hipparcos*' precision? **10 points**"
   ]
  },
  {
   "cell_type": "code",
   "execution_count": null,
   "metadata": {
    "execution": {
     "iopub.execute_input": "2022-07-17T21:23:58.287076Z",
     "iopub.status.busy": "2022-07-17T21:23:58.286078Z",
     "iopub.status.idle": "2022-07-17T21:23:58.300042Z",
     "shell.execute_reply": "2022-07-17T21:23:58.302037Z"
    }
   },
   "outputs": [],
   "source": [
    "#define the parallax std array from the data set \n",
    "std_px = np.array(data2['sigma_PLX'])"
   ]
  },
  {
   "cell_type": "code",
   "execution_count": null,
   "metadata": {
    "execution": {
     "iopub.execute_input": "2022-07-17T21:23:58.350905Z",
     "iopub.status.busy": "2022-07-17T21:23:58.339937Z",
     "iopub.status.idle": "2022-07-17T21:23:58.886472Z",
     "shell.execute_reply": "2022-07-17T21:23:58.889464Z"
    }
   },
   "outputs": [],
   "source": [
    "#check to see how the parallax std array looks in a historgram \n",
    "plt.figure(figsize=(8,6))\n",
    "\n",
    "\n",
    "plt.hist(std_px, bins = 50, range = [0,8])\n",
    "\n",
    "plt.title('Relative Error for PX')\n",
    "\n",
    "\n",
    "plt.show()"
   ]
  },
  {
   "cell_type": "code",
   "execution_count": null,
   "metadata": {
    "execution": {
     "iopub.execute_input": "2022-07-17T21:23:58.907416Z",
     "iopub.status.busy": "2022-07-17T21:23:58.906419Z",
     "iopub.status.idle": "2022-07-17T21:24:02.185701Z",
     "shell.execute_reply": "2022-07-17T21:24:02.187697Z"
    }
   },
   "outputs": [],
   "source": [
    "#plot the parallax std in a log-log plot\n",
    "plt.figure(figsize=(8,6))\n",
    "\n",
    "plt.hist(std_px, bins = 50, log = True, range = [0,80])\n",
    "\n",
    "\n",
    "plt.title('Relative Error for PX in log scale')\n",
    "plt.show()"
   ]
  },
  {
   "cell_type": "markdown",
   "metadata": {},
   "source": [
    "From the log graph, we can see that the distribution is skewed where the highest concentration is towards the zero value. This is a good indicator since the majority of values have a low standard deviation, however, there are still a significant amount of values with very high standard deviation. This indicates that the precision of the Hipparcos can be improved. "
   ]
  },
  {
   "cell_type": "markdown",
   "metadata": {},
   "source": [
    "The error in parallax is typically related to the brightness of the star (from the statistics of photon counts). A view of this trend can be seen below (keeping the relative parallax error below 5%; similar to Figure 11 in van Leewen 2007). Can you find a fit to this relation, including error? **10 points**"
   ]
  },
  {
   "cell_type": "code",
   "execution_count": null,
   "metadata": {
    "execution": {
     "iopub.execute_input": "2022-07-17T21:24:02.202656Z",
     "iopub.status.busy": "2022-07-17T21:24:02.201659Z",
     "iopub.status.idle": "2022-07-17T21:24:02.213626Z",
     "shell.execute_reply": "2022-07-17T21:24:02.214624Z"
    }
   },
   "outputs": [],
   "source": [
    "#![relative error](./hipparcos_plx_err.png)"
   ]
  },
  {
   "cell_type": "code",
   "execution_count": null,
   "metadata": {
    "execution": {
     "iopub.execute_input": "2022-07-17T21:24:02.224597Z",
     "iopub.status.busy": "2022-07-17T21:24:02.223600Z",
     "iopub.status.idle": "2022-07-17T21:24:02.245873Z",
     "shell.execute_reply": "2022-07-17T21:24:02.248867Z"
    }
   },
   "outputs": [],
   "source": [
    "#define the magnitude from the data set as well as the log values \n",
    "mag = np.array(data2['Hp'])\n",
    "log_stdpx = np.log(std_px)\n",
    "log_mag = np.log(mag)"
   ]
  },
  {
   "cell_type": "code",
   "execution_count": null,
   "metadata": {
    "execution": {
     "iopub.execute_input": "2022-07-17T21:24:02.269808Z",
     "iopub.status.busy": "2022-07-17T21:24:02.264824Z",
     "iopub.status.idle": "2022-07-17T21:24:02.938878Z",
     "shell.execute_reply": "2022-07-17T21:24:02.940875Z"
    }
   },
   "outputs": [],
   "source": [
    "#plot the magnitude agains the log of the parallax std to take a look at the data \n",
    "plt.figure(figsize=(10,8))\n",
    "\n",
    "plt.scatter(mag, log_stdpx, s = 20)\n",
    "plt.gca().invert_xaxis()\n",
    "\n",
    "plt.title('Parallax Relative Error vs Magnitude')\n",
    "plt.ylabel('Relative Error of Paralax', fontsize = 12)\n",
    "plt.xlabel('Magnitude (dex)', fontsize =12)\n",
    "\n",
    "\n",
    "\n",
    "plt.show()"
   ]
  },
  {
   "cell_type": "code",
   "execution_count": null,
   "metadata": {
    "execution": {
     "iopub.execute_input": "2022-07-17T21:24:02.956832Z",
     "iopub.status.busy": "2022-07-17T21:24:02.954836Z",
     "iopub.status.idle": "2022-07-17T21:24:02.969796Z",
     "shell.execute_reply": "2022-07-17T21:24:02.971790Z"
    }
   },
   "outputs": [],
   "source": [
    "#perform linear regression on the arrays and get the parameters \n",
    "slope, intercept, r_value, p_value, std_err = stats.linregress(mag,log_stdpx)"
   ]
  },
  {
   "cell_type": "code",
   "execution_count": null,
   "metadata": {
    "execution": {
     "iopub.execute_input": "2022-07-17T21:24:03.008691Z",
     "iopub.status.busy": "2022-07-17T21:24:03.007698Z",
     "iopub.status.idle": "2022-07-17T21:24:05.196265Z",
     "shell.execute_reply": "2022-07-17T21:24:05.197262Z"
    }
   },
   "outputs": [],
   "source": [
    "#plot the linear regression fit into the original plot \n",
    "plt.figure(figsize=(10,8))\n",
    "\n",
    "plt.scatter(mag, log_stdpx, s = 20, label = 'data points')\n",
    "plt.plot(mag, slope*mag + intercept, c ='k', label = 'fit')\n",
    "plt.gca().invert_xaxis()\n",
    "\n",
    "plt.title('Parallax Relative Error vs Magnitude')\n",
    "plt.ylabel('Relative Error of Paralax', fontsize = 12)\n",
    "plt.xlabel('Magnitude (dex)', fontsize =12)\n",
    "\n",
    "\n",
    "plt.legend()\n",
    "plt.show()"
   ]
  },
  {
   "cell_type": "code",
   "execution_count": null,
   "metadata": {
    "execution": {
     "iopub.execute_input": "2022-07-17T21:24:05.206238Z",
     "iopub.status.busy": "2022-07-17T21:24:05.204243Z",
     "iopub.status.idle": "2022-07-17T21:24:05.221199Z",
     "shell.execute_reply": "2022-07-17T21:24:05.224195Z"
    }
   },
   "outputs": [],
   "source": [
    "print('The standard error of the fit is: ',std_err)"
   ]
  },
  {
   "cell_type": "markdown",
   "metadata": {},
   "source": [
    "Can you plot a histogram of the relative errors in $\\mathrm{RA}, \\ \\mathrm{DEC},$ and $\\mathrm{PLX}$ in a single figure? **10 points**"
   ]
  },
  {
   "cell_type": "code",
   "execution_count": null,
   "metadata": {
    "execution": {
     "iopub.execute_input": "2022-07-17T21:24:05.236158Z",
     "iopub.status.busy": "2022-07-17T21:24:05.235161Z",
     "iopub.status.idle": "2022-07-17T21:24:05.253113Z",
     "shell.execute_reply": "2022-07-17T21:24:05.254110Z"
    }
   },
   "outputs": [],
   "source": [
    "#define the arrays for the std of both of the coordinates \n",
    "ra_std = data2['sigma_RA']\n",
    "dec_std = data2['sigma_DEC']"
   ]
  },
  {
   "cell_type": "code",
   "execution_count": null,
   "metadata": {
    "execution": {
     "iopub.execute_input": "2022-07-17T21:24:05.274057Z",
     "iopub.status.busy": "2022-07-17T21:24:05.269075Z",
     "iopub.status.idle": "2022-07-17T21:24:08.921962Z",
     "shell.execute_reply": "2022-07-17T21:24:08.922958Z"
    }
   },
   "outputs": [],
   "source": [
    "#plot all three of the standard deviations in a log histogram\n",
    "plt.figure(figsize=(8,6))\n",
    "\n",
    "plt.hist(std_px, bins = 50, range = [0,80], log = True, color = 'g', label = 'PX_std')\n",
    "plt.hist(ra_std, bins=50, range=[0,80], log=True, color = 'b', label = 'RA_std')\n",
    "plt.hist(dec_std, bins=50, range=[0,80], log=True, color = 'r', label = 'DEC_std')\n",
    "\n",
    "plt.title('Relative Error for RA, DEC and PX in log scale')\n",
    "\n",
    "plt.legend()\n",
    "plt.show()"
   ]
  },
  {
   "cell_type": "markdown",
   "metadata": {},
   "source": [
    "### Hertzsprung-Russell diagrams\n",
    "\n",
    "#### Observational\n",
    "\n",
    "Before calculating any intrinsic stellar properties from the observations, it is typically useful to plot a diagram of what you *observe*. (Observed here means the most basic properties that can be determined from the data. If you want to be pedantic, then you might suggest that the values in this table are not what is actually observed, but a reduction of the observed photon counts.) For this purpose we should plot a Hertzsprung-Russel diagram (HRD) to reveal the different stellar types. It is important not only to remember that a HRD has colour (B-V) on the x-axis and magnitude (Hp) on the y-axis, but also that the y-axis is reversed (the perks of using an antiquated unit). **5 points**"
   ]
  },
  {
   "cell_type": "code",
   "execution_count": null,
   "metadata": {
    "execution": {
     "iopub.execute_input": "2022-07-17T21:24:08.932932Z",
     "iopub.status.busy": "2022-07-17T21:24:08.931936Z",
     "iopub.status.idle": "2022-07-17T21:24:08.953877Z",
     "shell.execute_reply": "2022-07-17T21:24:08.956869Z"
    }
   },
   "outputs": [],
   "source": [
    "#define the array for the BV magnitude and its respective std\n",
    "BV = np.array(data2['B-V'])\n",
    "BV_std = np.array(data2['sigma_B-V'])"
   ]
  },
  {
   "cell_type": "code",
   "execution_count": null,
   "metadata": {
    "execution": {
     "iopub.execute_input": "2022-07-17T21:24:09.013716Z",
     "iopub.status.busy": "2022-07-17T21:24:09.011722Z",
     "iopub.status.idle": "2022-07-17T21:24:09.721060Z",
     "shell.execute_reply": "2022-07-17T21:24:09.720031Z"
    }
   },
   "outputs": [],
   "source": [
    "#plot the BV color vs the magnitude \n",
    "plt.figure(figsize=(10,8))\n",
    "\n",
    "plt.scatter(BV,mag, s = 20)\n",
    "plt.gca().invert_yaxis()\n",
    "\n",
    "plt.title('B-V Color vs Magnitude')\n",
    "plt.ylabel('Magnitude (dex)', fontsize = 12)\n",
    "plt.xlabel('B-V Color (dex)', fontsize =12)\n",
    "\n",
    "\n",
    "\n",
    "plt.show()"
   ]
  },
  {
   "cell_type": "markdown",
   "metadata": {},
   "source": [
    "From this graph is difficult to make any conclusions based on the data points. There are no visible trends in this graph, besides the big concentration of points around the zero vertical line. "
   ]
  },
  {
   "cell_type": "markdown",
   "metadata": {},
   "source": [
    "What do you see?\n",
    "\n",
    "If you use the magnitude given in `hipparcos2.csv`, you might have a little difficulty determining the different regions of an HR diagram. One reason for this is that it is an apparent magnitude, so these results do not take into account reddening or extinction. Another issue, however, is that we don't filter the results that have a lot of error. Try plotting it again while limiting the relative parallax error to <20% and the color error to 5 mag. **5 points**"
   ]
  },
  {
   "cell_type": "code",
   "execution_count": null,
   "metadata": {
    "execution": {
     "iopub.execute_input": "2022-07-17T21:24:09.733995Z",
     "iopub.status.busy": "2022-07-17T21:24:09.730002Z",
     "iopub.status.idle": "2022-07-17T21:24:10.556792Z",
     "shell.execute_reply": "2022-07-17T21:24:10.558786Z"
    }
   },
   "outputs": [],
   "source": [
    "#plot the BV and the magnitude one more time but now these values will be\n",
    "#limited to where BV std < 0.05 and the parallax std < 0.20\n",
    "plt.figure(figsize=(10,8))\n",
    "\n",
    "plt.scatter(BV[np.where(std_px<0.20) and (BV_std<0.05)],mag[np.where(std_px<0.20)and(BV_std<0.05)], s = 20)\n",
    "plt.gca().invert_yaxis()\n",
    "\n",
    "plt.title('Limited B-V Color vs Magnitude')\n",
    "plt.ylabel('Magnitude (dex)', fontsize = 12)\n",
    "plt.xlabel('B-V Color (dex)', fontsize =12)\n"
   ]
  },
  {
   "cell_type": "markdown",
   "metadata": {},
   "source": [
    "One trait now looks more prominent, and that is the suspiciously high number of stars with $ B-V = 0 $. This is called an artefact, and it is a result of some bad data or sloppy reduction. Since the author of this reduction is quite renowned in the community, the issue most likely lies with bad data for these stars. For the rest of the exercise, you may filter-out star with $B-V = 0$.\n",
    "\n",
    "Now try plotting the HRD in terms of the intrinsic absolute magnitude, $ M_{Hp} $ (you should get something similar in shape to [this](https://www.cosmos.esa.int/documents/532822/573165/f3_5_005.pdf/90951100-6586-4ba7-a042-784f5845a279)). **Try also with the other colour $V-I$**. Remember that the absolute magnitude can be calculated by the formula:\n",
    "\n",
    "$$\n",
    "M_\\mathrm{Hp} = m_\\mathrm{Hp} - 5 \\ \\mathrm{log}_\\mathrm{10}\\Big(\\frac{d}{pc}\\Big) + 5\n",
    "$$\n",
    "\n",
    "This plot has a bit of an issue where there are many points plotted ontop of each other. Instead, see if you can plot the number density in a 2D histogram of of the following ways **10 points**\n",
    "\n",
    "* bin the data in steps of 0.05 mag in $M_{Hp}$ and 0.01 mag in $B-V$, with the number density in the color bar. You might find the function `scipy.stats.binned_statistic_2d()` useful.\n",
    "* Utilise the `hexbin` routine with an adequate choice of binning"
   ]
  },
  {
   "cell_type": "code",
   "execution_count": null,
   "metadata": {
    "execution": {
     "iopub.execute_input": "2022-07-17T21:24:10.569757Z",
     "iopub.status.busy": "2022-07-17T21:24:10.567762Z",
     "iopub.status.idle": "2022-07-17T21:24:10.585713Z",
     "shell.execute_reply": "2022-07-17T21:24:10.587714Z"
    }
   },
   "outputs": [],
   "source": [
    "#define the function to calculate the absolute magnitue by taking \n",
    "#the distance and the magnitude \n",
    "def abs_magnitude(mag,dist):\n",
    "    log = (math.log10(dist)*5)\n",
    "    abs_mag = mag - log + 5 \n",
    "    return abs_mag"
   ]
  },
  {
   "cell_type": "code",
   "execution_count": null,
   "metadata": {
    "execution": {
     "iopub.execute_input": "2022-07-17T21:24:10.596683Z",
     "iopub.status.busy": "2022-07-17T21:24:10.594689Z",
     "iopub.status.idle": "2022-07-17T21:24:10.613639Z",
     "shell.execute_reply": "2022-07-17T21:24:10.616637Z"
    }
   },
   "outputs": [],
   "source": [
    "#since the log of distance is taken, the values less than zero are filtered\n",
    "#out from both of the arrays \n",
    "dist2 = distance[np.where(distance>0)]\n",
    "mag2 = mag[np.where(distance>0)]\n",
    "BV3 = BV[np.where(distance>0)]"
   ]
  },
  {
   "cell_type": "code",
   "execution_count": null,
   "metadata": {
    "execution": {
     "iopub.execute_input": "2022-07-17T21:24:10.642561Z",
     "iopub.status.busy": "2022-07-17T21:24:10.631590Z",
     "iopub.status.idle": "2022-07-17T21:24:19.156905Z",
     "shell.execute_reply": "2022-07-17T21:24:19.161896Z"
    }
   },
   "outputs": [],
   "source": [
    "#calculate de absolute magnitude for each value in the array \n",
    "abs_mag = []\n",
    "for i in range(len(mag2)):\n",
    "    a = abs_magnitude(mag2[i],dist2[i])\n",
    "    abs_mag = np.append(a, abs_mag)"
   ]
  },
  {
   "cell_type": "code",
   "execution_count": null,
   "metadata": {
    "execution": {
     "iopub.execute_input": "2022-07-17T21:24:19.173861Z",
     "iopub.status.busy": "2022-07-17T21:24:19.172862Z",
     "iopub.status.idle": "2022-07-17T21:24:19.188821Z",
     "shell.execute_reply": "2022-07-17T21:24:19.190815Z"
    }
   },
   "outputs": [],
   "source": [
    "abs_mag"
   ]
  },
  {
   "cell_type": "code",
   "execution_count": null,
   "metadata": {
    "execution": {
     "iopub.execute_input": "2022-07-17T21:24:19.200788Z",
     "iopub.status.busy": "2022-07-17T21:24:19.199791Z",
     "iopub.status.idle": "2022-07-17T21:24:19.219739Z",
     "shell.execute_reply": "2022-07-17T21:24:19.220735Z"
    }
   },
   "outputs": [],
   "source": [
    "BV2 = BV[np.where(BV!=0)]"
   ]
  },
  {
   "cell_type": "code",
   "execution_count": null,
   "metadata": {
    "execution": {
     "iopub.execute_input": "2022-07-17T21:24:19.261625Z",
     "iopub.status.busy": "2022-07-17T21:24:19.260629Z",
     "iopub.status.idle": "2022-07-17T21:24:19.909537Z",
     "shell.execute_reply": "2022-07-17T21:24:19.911533Z"
    },
    "scrolled": false
   },
   "outputs": [],
   "source": [
    "#plot the respective BV values and the matching absolute magnitude array \n",
    "\n",
    "plt.figure(figsize=(10,8))\n",
    "\n",
    "plt.scatter(BV3,abs_mag, s = 20)\n",
    "plt.gca().invert_yaxis()\n",
    "\n",
    "plt.title('B-V Color vs Absolute Magnitude')\n",
    "plt.ylabel('Absolute Magnitude (dex)', fontsize = 12)\n",
    "plt.xlabel('B-V Color (dex)', fontsize =12)\n"
   ]
  },
  {
   "cell_type": "code",
   "execution_count": null,
   "metadata": {
    "execution": {
     "iopub.execute_input": "2022-07-17T21:24:19.921505Z",
     "iopub.status.busy": "2022-07-17T21:24:19.919508Z",
     "iopub.status.idle": "2022-07-17T21:24:19.936468Z",
     "shell.execute_reply": "2022-07-17T21:24:19.937460Z"
    }
   },
   "outputs": [],
   "source": [
    "#define the V-I color array from the data set\n",
    "VI = np.array(data2['V-I'])\n",
    "VI2 = VI[np.where(distance>0)]"
   ]
  },
  {
   "cell_type": "code",
   "execution_count": null,
   "metadata": {
    "execution": {
     "iopub.execute_input": "2022-07-17T21:24:19.955412Z",
     "iopub.status.busy": "2022-07-17T21:24:19.954415Z",
     "iopub.status.idle": "2022-07-17T21:24:20.582818Z",
     "shell.execute_reply": "2022-07-17T21:24:20.583815Z"
    }
   },
   "outputs": [],
   "source": [
    "#plot the respective VI values and the matching absolute magnitude array \n",
    "\n",
    "plt.figure(figsize=(10,8))\n",
    "\n",
    "plt.scatter(VI2,abs_mag, s = 20)\n",
    "plt.gca().invert_yaxis()\n",
    "\n",
    "plt.title('V-I Color vs Absolute Magnitude')\n",
    "plt.ylabel('Absolute Magnitude (dex)', fontsize = 12)\n",
    "plt.xlabel('V-I Color (dex)', fontsize =12)"
   ]
  },
  {
   "cell_type": "code",
   "execution_count": null,
   "metadata": {
    "execution": {
     "iopub.execute_input": "2022-07-17T21:24:20.589799Z",
     "iopub.status.busy": "2022-07-17T21:24:20.588802Z",
     "iopub.status.idle": "2022-07-17T21:24:20.596779Z",
     "shell.execute_reply": "2022-07-17T21:24:20.597777Z"
    }
   },
   "outputs": [],
   "source": [
    "#we can see that some of the values in the absolute magnitude array correspond \n",
    "#to infinity and need to be filtered out \n",
    "abs_mag[np.isfinite(abs_mag)== False]"
   ]
  },
  {
   "cell_type": "code",
   "execution_count": null,
   "metadata": {
    "execution": {
     "iopub.execute_input": "2022-07-17T21:24:20.612738Z",
     "iopub.status.busy": "2022-07-17T21:24:20.610744Z",
     "iopub.status.idle": "2022-07-17T21:24:20.952488Z",
     "shell.execute_reply": "2022-07-17T21:24:20.953485Z"
    }
   },
   "outputs": [],
   "source": [
    "#a 2d histogram is plotted where the infinite values are exluded \n",
    "plt.figure(figsize=(10,8)) \n",
    "\n",
    "plt.hist2d(BV3[np.where(np.isfinite(abs_mag)!= False)],abs_mag[np.where(np.isfinite(abs_mag)!= False)], bins = 100)\n",
    "\n",
    "plt.title('2D Histogram of B-V Color and Absolute Magnitude')"
   ]
  },
  {
   "cell_type": "markdown",
   "metadata": {},
   "source": [
    "Very broadly we say that the features observed here are the main sequence (diagonal feature) and red clump (roughly spherical feature). Fit a line to the main sequence. Approximate the percentage of stars in the main sequence compared to the percentage in the red clump. **10 points**\n",
    "\n",
    "> *Note:* This will not add up to 100%."
   ]
  },
  {
   "cell_type": "code",
   "execution_count": null,
   "metadata": {},
   "outputs": [],
   "source": []
  },
  {
   "cell_type": "markdown",
   "metadata": {},
   "source": [
    "#### Theoretical\n",
    "\n",
    "For theorists it is more illuminating to plot diagrams of intrinsic properties. This makes it easier to relate the observations to population synthesis or evolutionary models. Getting to these intrinsic stellar properties from our observations is typically quite involved, requiring some (not so trivial) estimate of the dust extinction and attenuation along the line of sight. We will assume there is no dust extinction for a very basic example.\n",
    "\n",
    "A star's colour can be used to calculate its effective (surface) temperature. Disregarding any reddenning, we can estimate it using the formula ([Ballesteros 2012](https://arxiv.org/pdf/1201.1809.pdf)):\n",
    "\n",
    "$$\n",
    "T_\\mathrm{eff} = 4600 \\ \\Big( \\frac{1}{0.92(B-V)+0.62} + \\frac{1}{0.92(B-V)+1.7} \\Big) \\ \\mathrm{K}\n",
    "$$\n",
    "\n",
    "Luminosity is the intrinsic analog of magnitude. To put it in solar units, we need to use the absolute bolometric magnitude of the Sun ($M_\\odot=4.74$) with the observed star's bolometric magnitude and extinction. Since our absolute magnitudes are in the V band, we will have to add a bolometric correction ($BC_\\mathrm{Hp}$) to convert to the bolometric magnitude. Thus we have too many unknowns for our to make an accurate approximation. Current missions (ie. *Gaia*) get around this by utilising extremely-randomised trees, a regression method beyond the scope of this simple introduction. We will **not** use regression, but instead use an extremely-simplified approach where we neglect extinction and interpolate the bolometric correction (from `BC_hipparcos.csv`; [Masana et al. 2008](https://arxiv.org/pdf/astro-ph/0601049.pdf)) to get the formula:\n",
    "\n",
    "$$\n",
    "-2.5 \\ \\mathrm{log_{10}} \\Big( \\frac{L}{L_\\odot} \\Big) = M_\\mathrm{Hp} + BC_\\mathrm{Hp}(T_\\mathrm{eff}) - M_\\odot\n",
    "$$\n",
    "\n",
    "Finally, the stellar radii can be calculated using the standard blackbody relation:\n",
    "\n",
    "$$\n",
    "L = \\Big( \\frac{R}{R_\\odot} \\Big)^2 \\Big( \\frac{T_\\mathrm{eff}}{T_{\\mathrm{eff},\\odot}} \\Big)^4 \\ L_\\odot\n",
    "$$\n",
    "\n",
    "It might also help you to know the solar units: $L_\\odot=3.828*10^{26} \\ \\mathrm{W}$, $R_\\odot=6.956*10^8 \\ \\mathrm{m}$, $T_\\odot=5780 \\ \\mathrm{K}$."
   ]
  },
  {
   "cell_type": "markdown",
   "metadata": {},
   "source": [
    "Perform a spline fit of the bolometric correction data. Correctly interpolate the BC and utilise the equations to create a 2D histogram (or hexbin plot) of $L$ as a function of $T_\\mathrm{eff}$. **10 points**\n",
    "\n",
    "> *hint:* Use units of $L_\\odot$ and K.\n",
    "\n",
    "> *hint:* Technically this fit is only valid for $T_\\mathrm{eff} \\in [3300, 8000]$ K."
   ]
  },
  {
   "cell_type": "code",
   "execution_count": null,
   "metadata": {
    "execution": {
     "iopub.execute_input": "2022-07-17T21:24:20.961466Z",
     "iopub.status.busy": "2022-07-17T21:24:20.960466Z",
     "iopub.status.idle": "2022-07-17T21:24:20.966451Z",
     "shell.execute_reply": "2022-07-17T21:24:20.968445Z"
    }
   },
   "outputs": [],
   "source": [
    "#define the given solar constant values \n",
    "M_solar = 4.74\n",
    "L_solar = 3.828e26\n",
    "R_solar = 6.956e8\n",
    "T_solar = 5780"
   ]
  },
  {
   "cell_type": "code",
   "execution_count": null,
   "metadata": {
    "execution": {
     "iopub.execute_input": "2022-07-17T21:24:21.000362Z",
     "iopub.status.busy": "2022-07-17T21:24:20.999362Z",
     "iopub.status.idle": "2022-07-17T21:24:21.012328Z",
     "shell.execute_reply": "2022-07-17T21:24:21.011331Z"
    },
    "scrolled": true
   },
   "outputs": [],
   "source": [
    "#check the values given in the data set \n",
    "data1"
   ]
  },
  {
   "cell_type": "code",
   "execution_count": null,
   "metadata": {
    "execution": {
     "iopub.execute_input": "2022-07-17T21:24:21.020306Z",
     "iopub.status.busy": "2022-07-17T21:24:21.018311Z",
     "iopub.status.idle": "2022-07-17T21:24:21.029285Z",
     "shell.execute_reply": "2022-07-17T21:24:21.030280Z"
    }
   },
   "outputs": [],
   "source": [
    "#define the bolometric correction and the effective temperature from the data set \n",
    "BC = data1['BC']\n",
    "Teff = data1['# Teff']"
   ]
  },
  {
   "cell_type": "code",
   "execution_count": null,
   "metadata": {
    "execution": {
     "iopub.execute_input": "2022-07-17T21:24:21.038258Z",
     "iopub.status.busy": "2022-07-17T21:24:21.037260Z",
     "iopub.status.idle": "2022-07-17T21:24:21.041252Z",
     "shell.execute_reply": "2022-07-17T21:24:21.042249Z"
    }
   },
   "outputs": [],
   "source": [
    "#apply a spline fit to the bolometric data \n",
    "spl = UnivariateSpline(BC, Teff)"
   ]
  },
  {
   "cell_type": "code",
   "execution_count": null,
   "metadata": {
    "execution": {
     "iopub.execute_input": "2022-07-17T21:24:21.063193Z",
     "iopub.status.busy": "2022-07-17T21:24:21.060202Z",
     "iopub.status.idle": "2022-07-17T21:24:21.487675Z",
     "shell.execute_reply": "2022-07-17T21:24:21.488674Z"
    }
   },
   "outputs": [],
   "source": [
    "#plot the data points of the bolometric vs Teff relation along witht the spline fit\n",
    "plt.figure(figsize=(10,8)) \n",
    "\n",
    "plt.scatter(BC, Teff, label = 'data points', color = 'k')\n",
    "plt.plot(BC, spl(BC), color = 'r', label = 'fit')\n",
    "\n",
    "plt.title('Bolometric Correction vs Teff')\n",
    "plt.xlabel('Bolometric Correction')\n",
    "plt.ylabel('Teff (K)')\n",
    "\n",
    "plt.legend()\n",
    "plt.show()"
   ]
  },
  {
   "cell_type": "code",
   "execution_count": null,
   "metadata": {
    "execution": {
     "iopub.execute_input": "2022-07-17T21:24:21.498645Z",
     "iopub.status.busy": "2022-07-17T21:24:21.496650Z",
     "iopub.status.idle": "2022-07-17T21:24:21.516596Z",
     "shell.execute_reply": "2022-07-17T21:24:21.515599Z"
    }
   },
   "outputs": [],
   "source": [
    "#since the absolute magnitude is much larger, the same number of values as the Teff and BC are selected to \n",
    "#cut this array \n",
    "abs_mag2 = abs_mag[:41]"
   ]
  },
  {
   "cell_type": "markdown",
   "metadata": {},
   "source": [
    "The resulting equation from rearranging the first equation to solve for Luminosity using the given constant values as well as the ones from the dataset. \n",
    "\n",
    "$$\n",
    "L = 10^{\\Big( \\frac{BC_\\mathrm{Hp}(T_\\mathrm{eff}) - M_\\odot}{-2.5} \\Big)} L_\\odot\n",
    "$$"
   ]
  },
  {
   "cell_type": "code",
   "execution_count": null,
   "metadata": {
    "execution": {
     "iopub.execute_input": "2022-07-17T21:24:21.524575Z",
     "iopub.status.busy": "2022-07-17T21:24:21.524575Z",
     "iopub.status.idle": "2022-07-17T21:24:21.529563Z",
     "shell.execute_reply": "2022-07-17T21:24:21.530559Z"
    }
   },
   "outputs": [],
   "source": [
    "#define the luminosity from rearranging the first given equation\n",
    "def luminosity(teff,absmag,bc): \n",
    "    sum1 = absmag + (bc*teff) - M_solar\n",
    "    ten = sum1 / (-2.5)\n",
    "    L = 10**(ten) * L_solar\n",
    "    return L"
   ]
  },
  {
   "cell_type": "code",
   "execution_count": null,
   "metadata": {
    "execution": {
     "iopub.execute_input": "2022-07-17T21:24:21.546518Z",
     "iopub.status.busy": "2022-07-17T21:24:21.543525Z",
     "iopub.status.idle": "2022-07-17T21:24:21.560549Z",
     "shell.execute_reply": "2022-07-17T21:24:21.560549Z"
    }
   },
   "outputs": [],
   "source": [
    "#apply the luminosity formula to the values of bolometric correction, effective temperature and absolute magnitude \n",
    "lum = []\n",
    "for i in range(len(Teff)):\n",
    "    l  = luminosity(Teff[i],abs_mag2[i],BC[i])\n",
    "    lum = np.append(l,lum)"
   ]
  },
  {
   "cell_type": "code",
   "execution_count": null,
   "metadata": {
    "execution": {
     "iopub.execute_input": "2022-07-17T21:24:21.571522Z",
     "iopub.status.busy": "2022-07-17T21:24:21.570521Z",
     "iopub.status.idle": "2022-07-17T21:24:21.574512Z",
     "shell.execute_reply": "2022-07-17T21:24:21.575509Z"
    }
   },
   "outputs": [],
   "source": [
    "lum"
   ]
  },
  {
   "cell_type": "code",
   "execution_count": null,
   "metadata": {
    "execution": {
     "iopub.execute_input": "2022-07-17T21:24:21.582491Z",
     "iopub.status.busy": "2022-07-17T21:24:21.581492Z",
     "iopub.status.idle": "2022-07-17T21:24:21.593465Z",
     "shell.execute_reply": "2022-07-17T21:24:21.594457Z"
    }
   },
   "outputs": [],
   "source": [
    "#the resulting luminosity array has as a result some infinite values that cant be plotted and thus must be cut \n",
    "lum[:23]"
   ]
  },
  {
   "cell_type": "code",
   "execution_count": null,
   "metadata": {
    "execution": {
     "iopub.execute_input": "2022-07-17T21:24:21.636346Z",
     "iopub.status.busy": "2022-07-17T21:24:21.634351Z",
     "iopub.status.idle": "2022-07-17T21:24:21.959629Z",
     "shell.execute_reply": "2022-07-17T21:24:21.960621Z"
    }
   },
   "outputs": [],
   "source": [
    "#a 2d histogram is plotted where the infinite values are exluded from the luminosity array and its corresponding\n",
    "#teff values\n",
    "\n",
    "plt.figure(figsize=(10,8)) \n",
    "\n",
    "plt.hist2d(lum[:23],Teff[:23], bins = 100)\n",
    "\n",
    "plt.title('2D Histogram of B-V Color and Absolute Magnitude')"
   ]
  },
  {
   "cell_type": "markdown",
   "metadata": {},
   "source": [
    "Now try to perform a linear fit to the main sequence, accounting for error. Estimate the error in the fit. **10 points**"
   ]
  },
  {
   "cell_type": "markdown",
   "metadata": {},
   "source": [
    "Figure out how to isolate the stars on the main sequence. What is the probability for a star to be on the main sequence? Use the bootstrapping technique to determine the constrain the error in this approximation. **10 points**"
   ]
  },
  {
   "cell_type": "markdown",
   "metadata": {},
   "source": [
    "The last two problems depend on the solution of the question, and since the resulting graph from this question does not resemble the HR diagram with a visible main sequence is not possible to either create a fit to this region and to isolate the stars in it. "
   ]
  },
  {
   "cell_type": "code",
   "execution_count": null,
   "metadata": {},
   "outputs": [],
   "source": []
  }
 ],
 "metadata": {
  "kernelspec": {
   "display_name": "Python 3 (ipykernel)",
   "language": "python",
   "name": "python3"
  },
  "language_info": {
   "codemirror_mode": {
    "name": "ipython",
    "version": 3
   },
   "file_extension": ".py",
   "mimetype": "text/x-python",
   "name": "python",
   "nbconvert_exporter": "python",
   "pygments_lexer": "ipython3",
   "version": "3.9.7"
  },
  "vscode": {
   "interpreter": {
    "hash": "916dbcbb3f70747c44a77c7bcd40155683ae19c65e1c03b4aa3499c5328201f1"
   }
  }
 },
 "nbformat": 4,
 "nbformat_minor": 2
}
